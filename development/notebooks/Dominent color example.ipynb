{
 "cells": [
  {
   "cell_type": "markdown",
   "metadata": {},
   "source": [
    "<h3>Extract colors from an image</h3>"
   ]
  },
  {
   "cell_type": "code",
   "execution_count": 1,
   "metadata": {},
   "outputs": [
    {
     "data": {
      "image/png": "[encoded data removed]",
      "text/plain": [
       "<PIL.Image.Image image mode=RGB size=256x256 at 0x7FC0CB681810>"
      ]
     },
     "execution_count": 1,
     "metadata": {},
     "output_type": "execute_result"
    }
   ],
   "source": [
    "%matplotlib inline\n",
    "import matplotlib.pyplot as plt\n",
    "from PIL import Image\n",
    "import numpy as np\n",
    "import sys\n",
    "import glob\n",
    "\n",
    "sys.path.append('../app/lib/colors/')\n",
    "import dominant_colors  as dc\n",
    "from colors_html import APPROXIMATE_COLORS\n",
    "im_file = '../data/0af82b2f6969936ff5d498907a733106_92d0724ccdf4f35fce7c.png'\n",
    "\n",
    "APROX_COL = APPROXIMATE_COLORS()\n",
    "dc.change_image_depth(Image.open(im_file).resize((256, 256), Image.ANTIALIAS), depth=16)\n"
   ]
  },
  {
   "cell_type": "code",
   "execution_count": 2,
   "metadata": {},
   "outputs": [
    {
     "name": "stdout",
     "output_type": "stream",
     "text": [
      "{'total_number_pixels': 65536, 'number_distinct_colors': 36, 0: {'html_color': '#efefef', 'rgb': [239, 239, 239], 'number': 58180, 'fraction': 88.78}, 1: {'html_color': '#f06000', 'rgb': [240, 96, 0], 'number': 2047, 'fraction': 3.12}, 2: {'html_color': '#dfdfdf', 'rgb': [223, 223, 223], 'number': 615, 'fraction': 0.94}, 3: {'html_color': '#f04f00', 'rgb': [240, 79, 0], 'number': 349, 'fraction': 0.53}, 4: {'html_color': '#efefdf', 'rgb': [239, 239, 223], 'number': 349, 'fraction': 0.53}, 5: {'html_color': '#dfdfdf', 'rgb': [223, 223, 223], 'number': 269, 'fraction': 0.41}, 6: {'html_color': '#d0d0d0', 'rgb': [208, 208, 208], 'number': 258, 'fraction': 0.39}, 7: {'html_color': '#efdfcf', 'rgb': [239, 223, 207], 'number': 214, 'fraction': 0.33}, 8: {'html_color': '#c0c0c0', 'rgb': [192, 192, 192], 'number': 186, 'fraction': 0.28}, 9: {'html_color': '#a0a0a0', 'rgb': [160, 160, 160], 'number': 177, 'fraction': 0.27}}\n"
     ]
    }
   ],
   "source": [
    "cols = dc.dominant_colors_from_file(im_file, n_colors=10, mask=False, depth=16, resize=256)\n",
    "print(cols)"
   ]
  },
  {
   "cell_type": "code",
   "execution_count": 3,
   "metadata": {},
   "outputs": [
    {
     "name": "stdout",
     "output_type": "stream",
     "text": [
      "{'html_color': '#efefef', 'rgb': [239, 239, 239], 'number': 58180, 'fraction': 88.78}\n",
      "approx color is White\n",
      "{'html_color': '#f06000', 'rgb': [240, 96, 0], 'number': 2047, 'fraction': 3.12}\n",
      "approx color is Orange\n",
      "{'html_color': '#dfdfdf', 'rgb': [223, 223, 223], 'number': 615, 'fraction': 0.94}\n",
      "approx color is lightGray\n",
      "{'html_color': '#f04f00', 'rgb': [240, 79, 0], 'number': 349, 'fraction': 0.53}\n",
      "approx color is Orange\n",
      "{'html_color': '#efefdf', 'rgb': [239, 239, 223], 'number': 349, 'fraction': 0.53}\n",
      "approx color is White\n",
      "{'html_color': '#dfdfdf', 'rgb': [223, 223, 223], 'number': 269, 'fraction': 0.41}\n",
      "approx color is lightGray\n",
      "{'html_color': '#d0d0d0', 'rgb': [208, 208, 208], 'number': 258, 'fraction': 0.39}\n",
      "approx color is lightGray\n",
      "{'html_color': '#efdfcf', 'rgb': [239, 223, 207], 'number': 214, 'fraction': 0.33}\n",
      "approx color is White\n",
      "{'html_color': '#c0c0c0', 'rgb': [192, 192, 192], 'number': 186, 'fraction': 0.28}\n",
      "approx color is lightGray\n",
      "{'html_color': '#a0a0a0', 'rgb': [160, 160, 160], 'number': 177, 'fraction': 0.27}\n",
      "approx color is lightGray\n"
     ]
    },
    {
     "data": {
      "text/plain": [
       "<matplotlib.image.AxesImage at 0x7fc0b39b3d50>"
      ]
     },
     "execution_count": 3,
     "metadata": {},
     "output_type": "execute_result"
    },
    {
     "data": {
      "image/png": "[encoded data removed]",
      "text/plain": [
       "<Figure size 432x288 with 1 Axes>"
      ]
     },
     "metadata": {
      "needs_background": "light"
     },
     "output_type": "display_data"
    }
   ],
   "source": [
    "N = 10\n",
    "img_arr = img_arr=np.zeros((N*100, 500, 3), dtype=int)\n",
    "min_ = 0\n",
    "for i in range(N):\n",
    "    frac = int(cols[i]['fraction'] * N)\n",
    "    img_arr[min_: min_+frac,:] = cols[i]['rgb']\n",
    "    min_ += frac\n",
    "    # see info about this cluster\n",
    "    print( cols[i])\n",
    "    print('approx color is', APROX_COL.get_approximate_color([cols[i]['html_color']])[0])\n",
    "\n",
    "# view this dummy image.\n",
    "from skimage.io import imshow\n",
    "imshow(img_arr*1.0/255)"
   ]
  },
  {
   "cell_type": "code",
   "execution_count": 4,
   "metadata": {},
   "outputs": [
    {
     "name": "stdout",
     "output_type": "stream",
     "text": [
      "{'total_number_pixels': 7356, 'number_distinct_colors': 35, 0: {'html_color': '#f06000', 'rgb': [240, 96, 0], 'number': 2047, 'fraction': 27.83}, 1: {'html_color': '#f05f10', 'rgb': [240, 95, 16], 'number': 617, 'fraction': 8.39}, 2: {'html_color': '#efefdf', 'rgb': [239, 239, 223], 'number': 349, 'fraction': 4.74}, 3: {'html_color': '#f04f00', 'rgb': [240, 79, 0], 'number': 349, 'fraction': 4.74}, 4: {'html_color': '#dfdfdf', 'rgb': [223, 223, 223], 'number': 269, 'fraction': 3.66}, 5: {'html_color': '#d0d0d0', 'rgb': [208, 208, 208], 'number': 258, 'fraction': 3.51}, 6: {'html_color': '#efdfcf', 'rgb': [239, 223, 207], 'number': 214, 'fraction': 2.91}, 7: {'html_color': '#c0c0c0', 'rgb': [192, 192, 192], 'number': 186, 'fraction': 2.53}, 8: {'html_color': '#a0a0a0', 'rgb': [160, 160, 160], 'number': 177, 'fraction': 2.41}, 9: {'html_color': '#ef8f3a', 'rgb': [239, 143, 58], 'number': 172, 'fraction': 2.34}}\n",
      "{'html_color': '#f06000', 'rgb': [240, 96, 0], 'number': 2047, 'fraction': 27.83}\n",
      "approx color is Orange\n",
      "{'html_color': '#f05f10', 'rgb': [240, 95, 16], 'number': 617, 'fraction': 8.39}\n",
      "approx color is Orange\n",
      "{'html_color': '#efefdf', 'rgb': [239, 239, 223], 'number': 349, 'fraction': 4.74}\n",
      "approx color is White\n",
      "{'html_color': '#f04f00', 'rgb': [240, 79, 0], 'number': 349, 'fraction': 4.74}\n",
      "approx color is Orange\n",
      "{'html_color': '#dfdfdf', 'rgb': [223, 223, 223], 'number': 269, 'fraction': 3.66}\n",
      "approx color is lightGray\n",
      "{'html_color': '#d0d0d0', 'rgb': [208, 208, 208], 'number': 258, 'fraction': 3.51}\n",
      "approx color is lightGray\n",
      "{'html_color': '#efdfcf', 'rgb': [239, 223, 207], 'number': 214, 'fraction': 2.91}\n",
      "approx color is White\n",
      "{'html_color': '#c0c0c0', 'rgb': [192, 192, 192], 'number': 186, 'fraction': 2.53}\n",
      "approx color is lightGray\n",
      "{'html_color': '#a0a0a0', 'rgb': [160, 160, 160], 'number': 177, 'fraction': 2.41}\n",
      "approx color is lightGray\n",
      "{'html_color': '#ef8f3a', 'rgb': [239, 143, 58], 'number': 172, 'fraction': 2.34}\n",
      "approx color is Brown\n"
     ]
    },
    {
     "data": {
      "text/plain": [
       "<matplotlib.image.AxesImage at 0x7fc0b3e71d10>"
      ]
     },
     "execution_count": 4,
     "metadata": {},
     "output_type": "execute_result"
    },
    {
     "data": {
      "image/png": "[encoded data removed]",
      "text/plain": [
       "<Figure size 432x288 with 1 Axes>"
      ]
     },
     "metadata": {
      "needs_background": "light"
     },
     "output_type": "display_data"
    }
   ],
   "source": [
    "\n",
    "# here mask = True assumes the top left-most pixel is the color we want to ignore\n",
    "cols = dc.dominant_colors_from_file(im_file, n_colors=10, mask=True, depth=16, resize=256)\n",
    "print(cols)\n",
    "\n",
    "N = 10\n",
    "img_arr = img_arr=np.zeros((N*100, 500, 3), dtype=int)\n",
    "min_ = 0\n",
    "for i in range(N):\n",
    "    frac = int(cols[i]['fraction'] * N)\n",
    "    img_arr[min_: min_+frac,:] = cols[i]['rgb']\n",
    "    min_ += frac\n",
    "    # see info about this cluster\n",
    "    print( cols[i])\n",
    "    print('approx color is', APROX_COL.get_approximate_color([cols[i]['html_color']])[0])\n",
    "\n",
    "# view this dummy image.\n",
    "from skimage.io import imshow\n",
    "imshow(img_arr*1.0/255)\n"
   ]
  },
  {
   "cell_type": "code",
   "execution_count": null,
   "metadata": {},
   "outputs": [],
   "source": []
  }
 ],
 "metadata": {
  "kernelspec": {
   "display_name": "Python 3",
   "language": "python",
   "name": "python3"
  },
  "language_info": {
   "codemirror_mode": {
    "name": "ipython",
    "version": 3
   },
   "file_extension": ".py",
   "mimetype": "text/x-python",
   "name": "python",
   "nbconvert_exporter": "python",
   "pygments_lexer": "ipython3",
   "version": "3.7.4"
  }
 },
 "nbformat": 4,
 "nbformat_minor": 4
}
