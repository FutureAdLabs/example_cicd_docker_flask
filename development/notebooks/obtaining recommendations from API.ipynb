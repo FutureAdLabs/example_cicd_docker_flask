{
 "cells": [
  {
   "cell_type": "code",
   "execution_count": 6,
   "metadata": {},
   "outputs": [],
   "source": [
    "# GET NEIGHBORS"
   ]
  },
  {
   "cell_type": "code",
   "execution_count": 9,
   "metadata": {},
   "outputs": [
    {
     "ename": "ConnectionError",
     "evalue": "HTTPConnectionPool(host='creative-recommend-engine.adludio.com', port=8888): Max retries exceeded with url: /get_neighbors (Caused by NewConnectionError('<urllib3.connection.HTTPConnection object at 0x7f911dfc57f0>: Failed to establish a new connection: [Errno 61] Connection refused'))",
     "output_type": "error",
     "traceback": [
      "\u001b[0;31m---------------------------------------------------------------------------\u001b[0m",
      "\u001b[0;31mConnectionRefusedError\u001b[0m                    Traceback (most recent call last)",
      "\u001b[0;32m/Library/Frameworks/Python.framework/Versions/3.8/lib/python3.8/site-packages/urllib3/connection.py\u001b[0m in \u001b[0;36m_new_conn\u001b[0;34m(self)\u001b[0m\n\u001b[1;32m    157\u001b[0m         \u001b[0;32mtry\u001b[0m\u001b[0;34m:\u001b[0m\u001b[0;34m\u001b[0m\u001b[0;34m\u001b[0m\u001b[0m\n\u001b[0;32m--> 158\u001b[0;31m             conn = connection.create_connection(\n\u001b[0m\u001b[1;32m    159\u001b[0m                 (self._dns_host, self.port), self.timeout, **extra_kw)\n",
      "\u001b[0;32m/Library/Frameworks/Python.framework/Versions/3.8/lib/python3.8/site-packages/urllib3/util/connection.py\u001b[0m in \u001b[0;36mcreate_connection\u001b[0;34m(address, timeout, source_address, socket_options)\u001b[0m\n\u001b[1;32m     79\u001b[0m     \u001b[0;32mif\u001b[0m \u001b[0merr\u001b[0m \u001b[0;32mis\u001b[0m \u001b[0;32mnot\u001b[0m \u001b[0;32mNone\u001b[0m\u001b[0;34m:\u001b[0m\u001b[0;34m\u001b[0m\u001b[0;34m\u001b[0m\u001b[0m\n\u001b[0;32m---> 80\u001b[0;31m         \u001b[0;32mraise\u001b[0m \u001b[0merr\u001b[0m\u001b[0;34m\u001b[0m\u001b[0;34m\u001b[0m\u001b[0m\n\u001b[0m\u001b[1;32m     81\u001b[0m \u001b[0;34m\u001b[0m\u001b[0m\n",
      "\u001b[0;32m/Library/Frameworks/Python.framework/Versions/3.8/lib/python3.8/site-packages/urllib3/util/connection.py\u001b[0m in \u001b[0;36mcreate_connection\u001b[0;34m(address, timeout, source_address, socket_options)\u001b[0m\n\u001b[1;32m     69\u001b[0m                 \u001b[0msock\u001b[0m\u001b[0;34m.\u001b[0m\u001b[0mbind\u001b[0m\u001b[0;34m(\u001b[0m\u001b[0msource_address\u001b[0m\u001b[0;34m)\u001b[0m\u001b[0;34m\u001b[0m\u001b[0;34m\u001b[0m\u001b[0m\n\u001b[0;32m---> 70\u001b[0;31m             \u001b[0msock\u001b[0m\u001b[0;34m.\u001b[0m\u001b[0mconnect\u001b[0m\u001b[0;34m(\u001b[0m\u001b[0msa\u001b[0m\u001b[0;34m)\u001b[0m\u001b[0;34m\u001b[0m\u001b[0;34m\u001b[0m\u001b[0m\n\u001b[0m\u001b[1;32m     71\u001b[0m             \u001b[0;32mreturn\u001b[0m \u001b[0msock\u001b[0m\u001b[0;34m\u001b[0m\u001b[0;34m\u001b[0m\u001b[0m\n",
      "\u001b[0;31mConnectionRefusedError\u001b[0m: [Errno 61] Connection refused",
      "\nDuring handling of the above exception, another exception occurred:\n",
      "\u001b[0;31mNewConnectionError\u001b[0m                        Traceback (most recent call last)",
      "\u001b[0;32m/Library/Frameworks/Python.framework/Versions/3.8/lib/python3.8/site-packages/urllib3/connectionpool.py\u001b[0m in \u001b[0;36murlopen\u001b[0;34m(self, method, url, body, headers, retries, redirect, assert_same_host, timeout, pool_timeout, release_conn, chunked, body_pos, **response_kw)\u001b[0m\n\u001b[1;32m    596\u001b[0m             \u001b[0;31m# Make the request on the httplib connection object.\u001b[0m\u001b[0;34m\u001b[0m\u001b[0;34m\u001b[0m\u001b[0;34m\u001b[0m\u001b[0m\n\u001b[0;32m--> 597\u001b[0;31m             httplib_response = self._make_request(conn, method, url,\n\u001b[0m\u001b[1;32m    598\u001b[0m                                                   \u001b[0mtimeout\u001b[0m\u001b[0;34m=\u001b[0m\u001b[0mtimeout_obj\u001b[0m\u001b[0;34m,\u001b[0m\u001b[0;34m\u001b[0m\u001b[0;34m\u001b[0m\u001b[0m\n",
      "\u001b[0;32m/Library/Frameworks/Python.framework/Versions/3.8/lib/python3.8/site-packages/urllib3/connectionpool.py\u001b[0m in \u001b[0;36m_make_request\u001b[0;34m(self, conn, method, url, timeout, chunked, **httplib_request_kw)\u001b[0m\n\u001b[1;32m    353\u001b[0m         \u001b[0;32melse\u001b[0m\u001b[0;34m:\u001b[0m\u001b[0;34m\u001b[0m\u001b[0;34m\u001b[0m\u001b[0m\n\u001b[0;32m--> 354\u001b[0;31m             \u001b[0mconn\u001b[0m\u001b[0;34m.\u001b[0m\u001b[0mrequest\u001b[0m\u001b[0;34m(\u001b[0m\u001b[0mmethod\u001b[0m\u001b[0;34m,\u001b[0m \u001b[0murl\u001b[0m\u001b[0;34m,\u001b[0m \u001b[0;34m**\u001b[0m\u001b[0mhttplib_request_kw\u001b[0m\u001b[0;34m)\u001b[0m\u001b[0;34m\u001b[0m\u001b[0;34m\u001b[0m\u001b[0m\n\u001b[0m\u001b[1;32m    355\u001b[0m \u001b[0;34m\u001b[0m\u001b[0m\n",
      "\u001b[0;32m/Library/Frameworks/Python.framework/Versions/3.8/lib/python3.8/http/client.py\u001b[0m in \u001b[0;36mrequest\u001b[0;34m(self, method, url, body, headers, encode_chunked)\u001b[0m\n\u001b[1;32m   1229\u001b[0m         \u001b[0;34m\"\"\"Send a complete request to the server.\"\"\"\u001b[0m\u001b[0;34m\u001b[0m\u001b[0;34m\u001b[0m\u001b[0m\n\u001b[0;32m-> 1230\u001b[0;31m         \u001b[0mself\u001b[0m\u001b[0;34m.\u001b[0m\u001b[0m_send_request\u001b[0m\u001b[0;34m(\u001b[0m\u001b[0mmethod\u001b[0m\u001b[0;34m,\u001b[0m \u001b[0murl\u001b[0m\u001b[0;34m,\u001b[0m \u001b[0mbody\u001b[0m\u001b[0;34m,\u001b[0m \u001b[0mheaders\u001b[0m\u001b[0;34m,\u001b[0m \u001b[0mencode_chunked\u001b[0m\u001b[0;34m)\u001b[0m\u001b[0;34m\u001b[0m\u001b[0;34m\u001b[0m\u001b[0m\n\u001b[0m\u001b[1;32m   1231\u001b[0m \u001b[0;34m\u001b[0m\u001b[0m\n",
      "\u001b[0;32m/Library/Frameworks/Python.framework/Versions/3.8/lib/python3.8/http/client.py\u001b[0m in \u001b[0;36m_send_request\u001b[0;34m(self, method, url, body, headers, encode_chunked)\u001b[0m\n\u001b[1;32m   1275\u001b[0m             \u001b[0mbody\u001b[0m \u001b[0;34m=\u001b[0m \u001b[0m_encode\u001b[0m\u001b[0;34m(\u001b[0m\u001b[0mbody\u001b[0m\u001b[0;34m,\u001b[0m \u001b[0;34m'body'\u001b[0m\u001b[0;34m)\u001b[0m\u001b[0;34m\u001b[0m\u001b[0;34m\u001b[0m\u001b[0m\n\u001b[0;32m-> 1276\u001b[0;31m         \u001b[0mself\u001b[0m\u001b[0;34m.\u001b[0m\u001b[0mendheaders\u001b[0m\u001b[0;34m(\u001b[0m\u001b[0mbody\u001b[0m\u001b[0;34m,\u001b[0m \u001b[0mencode_chunked\u001b[0m\u001b[0;34m=\u001b[0m\u001b[0mencode_chunked\u001b[0m\u001b[0;34m)\u001b[0m\u001b[0;34m\u001b[0m\u001b[0;34m\u001b[0m\u001b[0m\n\u001b[0m\u001b[1;32m   1277\u001b[0m \u001b[0;34m\u001b[0m\u001b[0m\n",
      "\u001b[0;32m/Library/Frameworks/Python.framework/Versions/3.8/lib/python3.8/http/client.py\u001b[0m in \u001b[0;36mendheaders\u001b[0;34m(self, message_body, encode_chunked)\u001b[0m\n\u001b[1;32m   1224\u001b[0m             \u001b[0;32mraise\u001b[0m \u001b[0mCannotSendHeader\u001b[0m\u001b[0;34m(\u001b[0m\u001b[0;34m)\u001b[0m\u001b[0;34m\u001b[0m\u001b[0;34m\u001b[0m\u001b[0m\n\u001b[0;32m-> 1225\u001b[0;31m         \u001b[0mself\u001b[0m\u001b[0;34m.\u001b[0m\u001b[0m_send_output\u001b[0m\u001b[0;34m(\u001b[0m\u001b[0mmessage_body\u001b[0m\u001b[0;34m,\u001b[0m \u001b[0mencode_chunked\u001b[0m\u001b[0;34m=\u001b[0m\u001b[0mencode_chunked\u001b[0m\u001b[0;34m)\u001b[0m\u001b[0;34m\u001b[0m\u001b[0;34m\u001b[0m\u001b[0m\n\u001b[0m\u001b[1;32m   1226\u001b[0m \u001b[0;34m\u001b[0m\u001b[0m\n",
      "\u001b[0;32m/Library/Frameworks/Python.framework/Versions/3.8/lib/python3.8/http/client.py\u001b[0m in \u001b[0;36m_send_output\u001b[0;34m(self, message_body, encode_chunked)\u001b[0m\n\u001b[1;32m   1003\u001b[0m         \u001b[0;32mdel\u001b[0m \u001b[0mself\u001b[0m\u001b[0;34m.\u001b[0m\u001b[0m_buffer\u001b[0m\u001b[0;34m[\u001b[0m\u001b[0;34m:\u001b[0m\u001b[0;34m]\u001b[0m\u001b[0;34m\u001b[0m\u001b[0;34m\u001b[0m\u001b[0m\n\u001b[0;32m-> 1004\u001b[0;31m         \u001b[0mself\u001b[0m\u001b[0;34m.\u001b[0m\u001b[0msend\u001b[0m\u001b[0;34m(\u001b[0m\u001b[0mmsg\u001b[0m\u001b[0;34m)\u001b[0m\u001b[0;34m\u001b[0m\u001b[0;34m\u001b[0m\u001b[0m\n\u001b[0m\u001b[1;32m   1005\u001b[0m \u001b[0;34m\u001b[0m\u001b[0m\n",
      "\u001b[0;32m/Library/Frameworks/Python.framework/Versions/3.8/lib/python3.8/http/client.py\u001b[0m in \u001b[0;36msend\u001b[0;34m(self, data)\u001b[0m\n\u001b[1;32m    943\u001b[0m             \u001b[0;32mif\u001b[0m \u001b[0mself\u001b[0m\u001b[0;34m.\u001b[0m\u001b[0mauto_open\u001b[0m\u001b[0;34m:\u001b[0m\u001b[0;34m\u001b[0m\u001b[0;34m\u001b[0m\u001b[0m\n\u001b[0;32m--> 944\u001b[0;31m                 \u001b[0mself\u001b[0m\u001b[0;34m.\u001b[0m\u001b[0mconnect\u001b[0m\u001b[0;34m(\u001b[0m\u001b[0;34m)\u001b[0m\u001b[0;34m\u001b[0m\u001b[0;34m\u001b[0m\u001b[0m\n\u001b[0m\u001b[1;32m    945\u001b[0m             \u001b[0;32melse\u001b[0m\u001b[0;34m:\u001b[0m\u001b[0;34m\u001b[0m\u001b[0;34m\u001b[0m\u001b[0m\n",
      "\u001b[0;32m/Library/Frameworks/Python.framework/Versions/3.8/lib/python3.8/site-packages/urllib3/connection.py\u001b[0m in \u001b[0;36mconnect\u001b[0;34m(self)\u001b[0m\n\u001b[1;32m    180\u001b[0m     \u001b[0;32mdef\u001b[0m \u001b[0mconnect\u001b[0m\u001b[0;34m(\u001b[0m\u001b[0mself\u001b[0m\u001b[0;34m)\u001b[0m\u001b[0;34m:\u001b[0m\u001b[0;34m\u001b[0m\u001b[0;34m\u001b[0m\u001b[0m\n\u001b[0;32m--> 181\u001b[0;31m         \u001b[0mconn\u001b[0m \u001b[0;34m=\u001b[0m \u001b[0mself\u001b[0m\u001b[0;34m.\u001b[0m\u001b[0m_new_conn\u001b[0m\u001b[0;34m(\u001b[0m\u001b[0;34m)\u001b[0m\u001b[0;34m\u001b[0m\u001b[0;34m\u001b[0m\u001b[0m\n\u001b[0m\u001b[1;32m    182\u001b[0m         \u001b[0mself\u001b[0m\u001b[0;34m.\u001b[0m\u001b[0m_prepare_conn\u001b[0m\u001b[0;34m(\u001b[0m\u001b[0mconn\u001b[0m\u001b[0;34m)\u001b[0m\u001b[0;34m\u001b[0m\u001b[0;34m\u001b[0m\u001b[0m\n",
      "\u001b[0;32m/Library/Frameworks/Python.framework/Versions/3.8/lib/python3.8/site-packages/urllib3/connection.py\u001b[0m in \u001b[0;36m_new_conn\u001b[0;34m(self)\u001b[0m\n\u001b[1;32m    166\u001b[0m         \u001b[0;32mexcept\u001b[0m \u001b[0mSocketError\u001b[0m \u001b[0;32mas\u001b[0m \u001b[0me\u001b[0m\u001b[0;34m:\u001b[0m\u001b[0;34m\u001b[0m\u001b[0;34m\u001b[0m\u001b[0m\n\u001b[0;32m--> 167\u001b[0;31m             raise NewConnectionError(\n\u001b[0m\u001b[1;32m    168\u001b[0m                 self, \"Failed to establish a new connection: %s\" % e)\n",
      "\u001b[0;31mNewConnectionError\u001b[0m: <urllib3.connection.HTTPConnection object at 0x7f911dfc57f0>: Failed to establish a new connection: [Errno 61] Connection refused",
      "\nDuring handling of the above exception, another exception occurred:\n",
      "\u001b[0;31mMaxRetryError\u001b[0m                             Traceback (most recent call last)",
      "\u001b[0;32m/Library/Frameworks/Python.framework/Versions/3.8/lib/python3.8/site-packages/requests/adapters.py\u001b[0m in \u001b[0;36msend\u001b[0;34m(self, request, stream, timeout, verify, cert, proxies)\u001b[0m\n\u001b[1;32m    438\u001b[0m             \u001b[0;32mif\u001b[0m \u001b[0;32mnot\u001b[0m \u001b[0mchunked\u001b[0m\u001b[0;34m:\u001b[0m\u001b[0;34m\u001b[0m\u001b[0;34m\u001b[0m\u001b[0m\n\u001b[0;32m--> 439\u001b[0;31m                 resp = conn.urlopen(\n\u001b[0m\u001b[1;32m    440\u001b[0m                     \u001b[0mmethod\u001b[0m\u001b[0;34m=\u001b[0m\u001b[0mrequest\u001b[0m\u001b[0;34m.\u001b[0m\u001b[0mmethod\u001b[0m\u001b[0;34m,\u001b[0m\u001b[0;34m\u001b[0m\u001b[0;34m\u001b[0m\u001b[0m\n",
      "\u001b[0;32m/Library/Frameworks/Python.framework/Versions/3.8/lib/python3.8/site-packages/urllib3/connectionpool.py\u001b[0m in \u001b[0;36murlopen\u001b[0;34m(self, method, url, body, headers, retries, redirect, assert_same_host, timeout, pool_timeout, release_conn, chunked, body_pos, **response_kw)\u001b[0m\n\u001b[1;32m    636\u001b[0m \u001b[0;34m\u001b[0m\u001b[0m\n\u001b[0;32m--> 637\u001b[0;31m             retries = retries.increment(method, url, error=e, _pool=self,\n\u001b[0m\u001b[1;32m    638\u001b[0m                                         _stacktrace=sys.exc_info()[2])\n",
      "\u001b[0;32m/Library/Frameworks/Python.framework/Versions/3.8/lib/python3.8/site-packages/urllib3/util/retry.py\u001b[0m in \u001b[0;36mincrement\u001b[0;34m(self, method, url, response, error, _pool, _stacktrace)\u001b[0m\n\u001b[1;32m    398\u001b[0m         \u001b[0;32mif\u001b[0m \u001b[0mnew_retry\u001b[0m\u001b[0;34m.\u001b[0m\u001b[0mis_exhausted\u001b[0m\u001b[0;34m(\u001b[0m\u001b[0;34m)\u001b[0m\u001b[0;34m:\u001b[0m\u001b[0;34m\u001b[0m\u001b[0;34m\u001b[0m\u001b[0m\n\u001b[0;32m--> 399\u001b[0;31m             \u001b[0;32mraise\u001b[0m \u001b[0mMaxRetryError\u001b[0m\u001b[0;34m(\u001b[0m\u001b[0m_pool\u001b[0m\u001b[0;34m,\u001b[0m \u001b[0murl\u001b[0m\u001b[0;34m,\u001b[0m \u001b[0merror\u001b[0m \u001b[0;32mor\u001b[0m \u001b[0mResponseError\u001b[0m\u001b[0;34m(\u001b[0m\u001b[0mcause\u001b[0m\u001b[0;34m)\u001b[0m\u001b[0;34m)\u001b[0m\u001b[0;34m\u001b[0m\u001b[0;34m\u001b[0m\u001b[0m\n\u001b[0m\u001b[1;32m    400\u001b[0m \u001b[0;34m\u001b[0m\u001b[0m\n",
      "\u001b[0;31mMaxRetryError\u001b[0m: HTTPConnectionPool(host='creative-recommend-engine.adludio.com', port=8888): Max retries exceeded with url: /get_neighbors (Caused by NewConnectionError('<urllib3.connection.HTTPConnection object at 0x7f911dfc57f0>: Failed to establish a new connection: [Errno 61] Connection refused'))",
      "\nDuring handling of the above exception, another exception occurred:\n",
      "\u001b[0;31mConnectionError\u001b[0m                           Traceback (most recent call last)",
      "\u001b[0;32m<ipython-input-9-ff7522708d43>\u001b[0m in \u001b[0;36m<module>\u001b[0;34m\u001b[0m\n\u001b[1;32m     17\u001b[0m \u001b[0murl\u001b[0m \u001b[0;34m=\u001b[0m \u001b[0;34m'http://creative-recommend-engine.adludio.com:8888/'\u001b[0m\u001b[0;34m\u001b[0m\u001b[0;34m\u001b[0m\u001b[0m\n\u001b[1;32m     18\u001b[0m \u001b[0mt\u001b[0m \u001b[0;34m=\u001b[0m \u001b[0mtime\u001b[0m\u001b[0;34m.\u001b[0m\u001b[0mtime\u001b[0m\u001b[0;34m(\u001b[0m\u001b[0;34m)\u001b[0m\u001b[0;34m\u001b[0m\u001b[0;34m\u001b[0m\u001b[0m\n\u001b[0;32m---> 19\u001b[0;31m response_get_neighbors = requests.post(url +'get_neighbors',\n\u001b[0m\u001b[1;32m     20\u001b[0m                   json=api_input, headers=headers_)\n\u001b[1;32m     21\u001b[0m \u001b[0;34m\u001b[0m\u001b[0m\n",
      "\u001b[0;32m/Library/Frameworks/Python.framework/Versions/3.8/lib/python3.8/site-packages/requests/api.py\u001b[0m in \u001b[0;36mpost\u001b[0;34m(url, data, json, **kwargs)\u001b[0m\n\u001b[1;32m    114\u001b[0m     \"\"\"\n\u001b[1;32m    115\u001b[0m \u001b[0;34m\u001b[0m\u001b[0m\n\u001b[0;32m--> 116\u001b[0;31m     \u001b[0;32mreturn\u001b[0m \u001b[0mrequest\u001b[0m\u001b[0;34m(\u001b[0m\u001b[0;34m'post'\u001b[0m\u001b[0;34m,\u001b[0m \u001b[0murl\u001b[0m\u001b[0;34m,\u001b[0m \u001b[0mdata\u001b[0m\u001b[0;34m=\u001b[0m\u001b[0mdata\u001b[0m\u001b[0;34m,\u001b[0m \u001b[0mjson\u001b[0m\u001b[0;34m=\u001b[0m\u001b[0mjson\u001b[0m\u001b[0;34m,\u001b[0m \u001b[0;34m**\u001b[0m\u001b[0mkwargs\u001b[0m\u001b[0;34m)\u001b[0m\u001b[0;34m\u001b[0m\u001b[0;34m\u001b[0m\u001b[0m\n\u001b[0m\u001b[1;32m    117\u001b[0m \u001b[0;34m\u001b[0m\u001b[0m\n\u001b[1;32m    118\u001b[0m \u001b[0;34m\u001b[0m\u001b[0m\n",
      "\u001b[0;32m/Library/Frameworks/Python.framework/Versions/3.8/lib/python3.8/site-packages/requests/api.py\u001b[0m in \u001b[0;36mrequest\u001b[0;34m(method, url, **kwargs)\u001b[0m\n\u001b[1;32m     58\u001b[0m     \u001b[0;31m# cases, and look like a memory leak in others.\u001b[0m\u001b[0;34m\u001b[0m\u001b[0;34m\u001b[0m\u001b[0;34m\u001b[0m\u001b[0m\n\u001b[1;32m     59\u001b[0m     \u001b[0;32mwith\u001b[0m \u001b[0msessions\u001b[0m\u001b[0;34m.\u001b[0m\u001b[0mSession\u001b[0m\u001b[0;34m(\u001b[0m\u001b[0;34m)\u001b[0m \u001b[0;32mas\u001b[0m \u001b[0msession\u001b[0m\u001b[0;34m:\u001b[0m\u001b[0;34m\u001b[0m\u001b[0;34m\u001b[0m\u001b[0m\n\u001b[0;32m---> 60\u001b[0;31m         \u001b[0;32mreturn\u001b[0m \u001b[0msession\u001b[0m\u001b[0;34m.\u001b[0m\u001b[0mrequest\u001b[0m\u001b[0;34m(\u001b[0m\u001b[0mmethod\u001b[0m\u001b[0;34m=\u001b[0m\u001b[0mmethod\u001b[0m\u001b[0;34m,\u001b[0m \u001b[0murl\u001b[0m\u001b[0;34m=\u001b[0m\u001b[0murl\u001b[0m\u001b[0;34m,\u001b[0m \u001b[0;34m**\u001b[0m\u001b[0mkwargs\u001b[0m\u001b[0;34m)\u001b[0m\u001b[0;34m\u001b[0m\u001b[0;34m\u001b[0m\u001b[0m\n\u001b[0m\u001b[1;32m     61\u001b[0m \u001b[0;34m\u001b[0m\u001b[0m\n\u001b[1;32m     62\u001b[0m \u001b[0;34m\u001b[0m\u001b[0m\n",
      "\u001b[0;32m/Library/Frameworks/Python.framework/Versions/3.8/lib/python3.8/site-packages/requests/sessions.py\u001b[0m in \u001b[0;36mrequest\u001b[0;34m(self, method, url, params, data, headers, cookies, files, auth, timeout, allow_redirects, proxies, hooks, stream, verify, cert, json)\u001b[0m\n\u001b[1;32m    531\u001b[0m         }\n\u001b[1;32m    532\u001b[0m         \u001b[0msend_kwargs\u001b[0m\u001b[0;34m.\u001b[0m\u001b[0mupdate\u001b[0m\u001b[0;34m(\u001b[0m\u001b[0msettings\u001b[0m\u001b[0;34m)\u001b[0m\u001b[0;34m\u001b[0m\u001b[0;34m\u001b[0m\u001b[0m\n\u001b[0;32m--> 533\u001b[0;31m         \u001b[0mresp\u001b[0m \u001b[0;34m=\u001b[0m \u001b[0mself\u001b[0m\u001b[0;34m.\u001b[0m\u001b[0msend\u001b[0m\u001b[0;34m(\u001b[0m\u001b[0mprep\u001b[0m\u001b[0;34m,\u001b[0m \u001b[0;34m**\u001b[0m\u001b[0msend_kwargs\u001b[0m\u001b[0;34m)\u001b[0m\u001b[0;34m\u001b[0m\u001b[0;34m\u001b[0m\u001b[0m\n\u001b[0m\u001b[1;32m    534\u001b[0m \u001b[0;34m\u001b[0m\u001b[0m\n\u001b[1;32m    535\u001b[0m         \u001b[0;32mreturn\u001b[0m \u001b[0mresp\u001b[0m\u001b[0;34m\u001b[0m\u001b[0;34m\u001b[0m\u001b[0m\n",
      "\u001b[0;32m/Library/Frameworks/Python.framework/Versions/3.8/lib/python3.8/site-packages/requests/sessions.py\u001b[0m in \u001b[0;36msend\u001b[0;34m(self, request, **kwargs)\u001b[0m\n\u001b[1;32m    644\u001b[0m \u001b[0;34m\u001b[0m\u001b[0m\n\u001b[1;32m    645\u001b[0m         \u001b[0;31m# Send the request\u001b[0m\u001b[0;34m\u001b[0m\u001b[0;34m\u001b[0m\u001b[0;34m\u001b[0m\u001b[0m\n\u001b[0;32m--> 646\u001b[0;31m         \u001b[0mr\u001b[0m \u001b[0;34m=\u001b[0m \u001b[0madapter\u001b[0m\u001b[0;34m.\u001b[0m\u001b[0msend\u001b[0m\u001b[0;34m(\u001b[0m\u001b[0mrequest\u001b[0m\u001b[0;34m,\u001b[0m \u001b[0;34m**\u001b[0m\u001b[0mkwargs\u001b[0m\u001b[0;34m)\u001b[0m\u001b[0;34m\u001b[0m\u001b[0;34m\u001b[0m\u001b[0m\n\u001b[0m\u001b[1;32m    647\u001b[0m \u001b[0;34m\u001b[0m\u001b[0m\n\u001b[1;32m    648\u001b[0m         \u001b[0;31m# Total elapsed time of the request (approximately)\u001b[0m\u001b[0;34m\u001b[0m\u001b[0;34m\u001b[0m\u001b[0;34m\u001b[0m\u001b[0m\n",
      "\u001b[0;32m/Library/Frameworks/Python.framework/Versions/3.8/lib/python3.8/site-packages/requests/adapters.py\u001b[0m in \u001b[0;36msend\u001b[0;34m(self, request, stream, timeout, verify, cert, proxies)\u001b[0m\n\u001b[1;32m    514\u001b[0m                 \u001b[0;32mraise\u001b[0m \u001b[0mSSLError\u001b[0m\u001b[0;34m(\u001b[0m\u001b[0me\u001b[0m\u001b[0;34m,\u001b[0m \u001b[0mrequest\u001b[0m\u001b[0;34m=\u001b[0m\u001b[0mrequest\u001b[0m\u001b[0;34m)\u001b[0m\u001b[0;34m\u001b[0m\u001b[0;34m\u001b[0m\u001b[0m\n\u001b[1;32m    515\u001b[0m \u001b[0;34m\u001b[0m\u001b[0m\n\u001b[0;32m--> 516\u001b[0;31m             \u001b[0;32mraise\u001b[0m \u001b[0mConnectionError\u001b[0m\u001b[0;34m(\u001b[0m\u001b[0me\u001b[0m\u001b[0;34m,\u001b[0m \u001b[0mrequest\u001b[0m\u001b[0;34m=\u001b[0m\u001b[0mrequest\u001b[0m\u001b[0;34m)\u001b[0m\u001b[0;34m\u001b[0m\u001b[0;34m\u001b[0m\u001b[0m\n\u001b[0m\u001b[1;32m    517\u001b[0m \u001b[0;34m\u001b[0m\u001b[0m\n\u001b[1;32m    518\u001b[0m         \u001b[0;32mexcept\u001b[0m \u001b[0mClosedPoolError\u001b[0m \u001b[0;32mas\u001b[0m \u001b[0me\u001b[0m\u001b[0;34m:\u001b[0m\u001b[0;34m\u001b[0m\u001b[0;34m\u001b[0m\u001b[0m\n",
      "\u001b[0;31mConnectionError\u001b[0m: HTTPConnectionPool(host='creative-recommend-engine.adludio.com', port=8888): Max retries exceeded with url: /get_neighbors (Caused by NewConnectionError('<urllib3.connection.HTTPConnection object at 0x7f911dfc57f0>: Failed to establish a new connection: [Errno 61] Connection refused'))"
     ]
    }
   ],
   "source": [
    "import time\n",
    "import requests\n",
    "import json\n",
    "\n",
    "headers_ = {\n",
    "        \"EsbApi-Subscription-Key\": \"asd\",\n",
    "        \"Authorization\": \"asdas\"\n",
    "}\n",
    "\n",
    "api_input = {'region': ['Europe'],\n",
    "             'target_group': ['Beauty'],\n",
    "             'campaign_objective': ['click_through_rate']\n",
    "            }\n",
    "\n",
    "\n",
    "#url = 'http://127.0.0.1:8885/'\n",
    "url = 'http://creative-recommend-engine.adludio.com:8888/'\n",
    "t = time.time()\n",
    "response_get_neighbors = requests.post(url +'get_neighbors',\n",
    "                  json=api_input, headers=headers_)\n",
    "\n",
    "response_get_neighbors_to_load = json.dumps(json.loads(response_get_neighbors.content))"
   ]
  },
  {
   "cell_type": "code",
   "execution_count": 5,
   "metadata": {},
   "outputs": [
    {
     "ename": "NameError",
     "evalue": "name 'response_get_neighbors_to_load' is not defined",
     "output_type": "error",
     "traceback": [
      "\u001b[0;31m---------------------------------------------------------------------------\u001b[0m",
      "\u001b[0;31mNameError\u001b[0m                                 Traceback (most recent call last)",
      "\u001b[0;32m<ipython-input-5-00b63e3f8eb6>\u001b[0m in \u001b[0;36m<module>\u001b[0;34m\u001b[0m\n\u001b[0;32m----> 1\u001b[0;31m \u001b[0mjson\u001b[0m\u001b[0;34m.\u001b[0m\u001b[0mloads\u001b[0m\u001b[0;34m(\u001b[0m\u001b[0mresponse_get_neighbors_to_load\u001b[0m\u001b[0;34m)\u001b[0m\u001b[0;34m\u001b[0m\u001b[0;34m\u001b[0m\u001b[0m\n\u001b[0m",
      "\u001b[0;31mNameError\u001b[0m: name 'response_get_neighbors_to_load' is not defined"
     ]
    }
   ],
   "source": [
    "json.loads(response_get_neighbors_to_load)"
   ]
  },
  {
   "cell_type": "code",
   "execution_count": 5,
   "metadata": {},
   "outputs": [],
   "source": [
    "# SELECT NEIGHBORS"
   ]
  },
  {
   "cell_type": "code",
   "execution_count": 6,
   "metadata": {},
   "outputs": [
    {
     "ename": "JSONDecodeError",
     "evalue": "Expecting value: line 1 column 1 (char 0)",
     "output_type": "error",
     "traceback": [
      "\u001b[0;31m---------------------------------------------------------------------------\u001b[0m",
      "\u001b[0;31mJSONDecodeError\u001b[0m                           Traceback (most recent call last)",
      "\u001b[0;32m<ipython-input-6-afa225c67db7>\u001b[0m in \u001b[0;36m<module>\u001b[0;34m\u001b[0m\n\u001b[1;32m     12\u001b[0m                   json=response_get_neighbors_to_load, headers=headers_)\n\u001b[1;32m     13\u001b[0m \u001b[0;34m\u001b[0m\u001b[0m\n\u001b[0;32m---> 14\u001b[0;31m \u001b[0mresponse_select_neighbors_to_load\u001b[0m \u001b[0;34m=\u001b[0m \u001b[0mjson\u001b[0m\u001b[0;34m.\u001b[0m\u001b[0mdumps\u001b[0m\u001b[0;34m(\u001b[0m\u001b[0mjson\u001b[0m\u001b[0;34m.\u001b[0m\u001b[0mloads\u001b[0m\u001b[0;34m(\u001b[0m\u001b[0mresponse_select_neighbors\u001b[0m\u001b[0;34m.\u001b[0m\u001b[0mcontent\u001b[0m\u001b[0;34m)\u001b[0m\u001b[0;34m)\u001b[0m\u001b[0;34m\u001b[0m\u001b[0;34m\u001b[0m\u001b[0m\n\u001b[0m",
      "\u001b[0;32m/Library/Frameworks/Python.framework/Versions/3.8/lib/python3.8/json/__init__.py\u001b[0m in \u001b[0;36mloads\u001b[0;34m(s, cls, object_hook, parse_float, parse_int, parse_constant, object_pairs_hook, **kw)\u001b[0m\n\u001b[1;32m    355\u001b[0m             \u001b[0mparse_int\u001b[0m \u001b[0;32mis\u001b[0m \u001b[0;32mNone\u001b[0m \u001b[0;32mand\u001b[0m \u001b[0mparse_float\u001b[0m \u001b[0;32mis\u001b[0m \u001b[0;32mNone\u001b[0m \u001b[0;32mand\u001b[0m\u001b[0;34m\u001b[0m\u001b[0;34m\u001b[0m\u001b[0m\n\u001b[1;32m    356\u001b[0m             parse_constant is None and object_pairs_hook is None and not kw):\n\u001b[0;32m--> 357\u001b[0;31m         \u001b[0;32mreturn\u001b[0m \u001b[0m_default_decoder\u001b[0m\u001b[0;34m.\u001b[0m\u001b[0mdecode\u001b[0m\u001b[0;34m(\u001b[0m\u001b[0ms\u001b[0m\u001b[0;34m)\u001b[0m\u001b[0;34m\u001b[0m\u001b[0;34m\u001b[0m\u001b[0m\n\u001b[0m\u001b[1;32m    358\u001b[0m     \u001b[0;32mif\u001b[0m \u001b[0mcls\u001b[0m \u001b[0;32mis\u001b[0m \u001b[0;32mNone\u001b[0m\u001b[0;34m:\u001b[0m\u001b[0;34m\u001b[0m\u001b[0;34m\u001b[0m\u001b[0m\n\u001b[1;32m    359\u001b[0m         \u001b[0mcls\u001b[0m \u001b[0;34m=\u001b[0m \u001b[0mJSONDecoder\u001b[0m\u001b[0;34m\u001b[0m\u001b[0;34m\u001b[0m\u001b[0m\n",
      "\u001b[0;32m/Library/Frameworks/Python.framework/Versions/3.8/lib/python3.8/json/decoder.py\u001b[0m in \u001b[0;36mdecode\u001b[0;34m(self, s, _w)\u001b[0m\n\u001b[1;32m    335\u001b[0m \u001b[0;34m\u001b[0m\u001b[0m\n\u001b[1;32m    336\u001b[0m         \"\"\"\n\u001b[0;32m--> 337\u001b[0;31m         \u001b[0mobj\u001b[0m\u001b[0;34m,\u001b[0m \u001b[0mend\u001b[0m \u001b[0;34m=\u001b[0m \u001b[0mself\u001b[0m\u001b[0;34m.\u001b[0m\u001b[0mraw_decode\u001b[0m\u001b[0;34m(\u001b[0m\u001b[0ms\u001b[0m\u001b[0;34m,\u001b[0m \u001b[0midx\u001b[0m\u001b[0;34m=\u001b[0m\u001b[0m_w\u001b[0m\u001b[0;34m(\u001b[0m\u001b[0ms\u001b[0m\u001b[0;34m,\u001b[0m \u001b[0;36m0\u001b[0m\u001b[0;34m)\u001b[0m\u001b[0;34m.\u001b[0m\u001b[0mend\u001b[0m\u001b[0;34m(\u001b[0m\u001b[0;34m)\u001b[0m\u001b[0;34m)\u001b[0m\u001b[0;34m\u001b[0m\u001b[0;34m\u001b[0m\u001b[0m\n\u001b[0m\u001b[1;32m    338\u001b[0m         \u001b[0mend\u001b[0m \u001b[0;34m=\u001b[0m \u001b[0m_w\u001b[0m\u001b[0;34m(\u001b[0m\u001b[0ms\u001b[0m\u001b[0;34m,\u001b[0m \u001b[0mend\u001b[0m\u001b[0;34m)\u001b[0m\u001b[0;34m.\u001b[0m\u001b[0mend\u001b[0m\u001b[0;34m(\u001b[0m\u001b[0;34m)\u001b[0m\u001b[0;34m\u001b[0m\u001b[0;34m\u001b[0m\u001b[0m\n\u001b[1;32m    339\u001b[0m         \u001b[0;32mif\u001b[0m \u001b[0mend\u001b[0m \u001b[0;34m!=\u001b[0m \u001b[0mlen\u001b[0m\u001b[0;34m(\u001b[0m\u001b[0ms\u001b[0m\u001b[0;34m)\u001b[0m\u001b[0;34m:\u001b[0m\u001b[0;34m\u001b[0m\u001b[0;34m\u001b[0m\u001b[0m\n",
      "\u001b[0;32m/Library/Frameworks/Python.framework/Versions/3.8/lib/python3.8/json/decoder.py\u001b[0m in \u001b[0;36mraw_decode\u001b[0;34m(self, s, idx)\u001b[0m\n\u001b[1;32m    353\u001b[0m             \u001b[0mobj\u001b[0m\u001b[0;34m,\u001b[0m \u001b[0mend\u001b[0m \u001b[0;34m=\u001b[0m \u001b[0mself\u001b[0m\u001b[0;34m.\u001b[0m\u001b[0mscan_once\u001b[0m\u001b[0;34m(\u001b[0m\u001b[0ms\u001b[0m\u001b[0;34m,\u001b[0m \u001b[0midx\u001b[0m\u001b[0;34m)\u001b[0m\u001b[0;34m\u001b[0m\u001b[0;34m\u001b[0m\u001b[0m\n\u001b[1;32m    354\u001b[0m         \u001b[0;32mexcept\u001b[0m \u001b[0mStopIteration\u001b[0m \u001b[0;32mas\u001b[0m \u001b[0merr\u001b[0m\u001b[0;34m:\u001b[0m\u001b[0;34m\u001b[0m\u001b[0;34m\u001b[0m\u001b[0m\n\u001b[0;32m--> 355\u001b[0;31m             \u001b[0;32mraise\u001b[0m \u001b[0mJSONDecodeError\u001b[0m\u001b[0;34m(\u001b[0m\u001b[0;34m\"Expecting value\"\u001b[0m\u001b[0;34m,\u001b[0m \u001b[0ms\u001b[0m\u001b[0;34m,\u001b[0m \u001b[0merr\u001b[0m\u001b[0;34m.\u001b[0m\u001b[0mvalue\u001b[0m\u001b[0;34m)\u001b[0m \u001b[0;32mfrom\u001b[0m \u001b[0;32mNone\u001b[0m\u001b[0;34m\u001b[0m\u001b[0;34m\u001b[0m\u001b[0m\n\u001b[0m\u001b[1;32m    356\u001b[0m         \u001b[0;32mreturn\u001b[0m \u001b[0mobj\u001b[0m\u001b[0;34m,\u001b[0m \u001b[0mend\u001b[0m\u001b[0;34m\u001b[0m\u001b[0;34m\u001b[0m\u001b[0m\n",
      "\u001b[0;31mJSONDecodeError\u001b[0m: Expecting value: line 1 column 1 (char 0)"
     ]
    }
   ],
   "source": [
    "import time\n",
    "import requests\n",
    "import json\n",
    "headers_ = {\n",
    "        \"EsbApi-Subscription-Key\": \"asd\",\n",
    "        \"Authorization\": \"asdas\"\n",
    "}\n",
    "\n",
    "url = 'http://127.0.0.1:8885/'\n",
    "t = time.time()\n",
    "response_select_neighbors = requests.post(url +'select_neighbors',\n",
    "                  json=response_get_neighbors_to_load, headers=headers_)\n",
    "\n",
    "response_select_neighbors_to_load = json.dumps(json.loads(response_select_neighbors.content))"
   ]
  },
  {
   "cell_type": "code",
   "execution_count": 7,
   "metadata": {},
   "outputs": [
    {
     "ename": "NameError",
     "evalue": "name 'response_select_neighbors_to_load' is not defined",
     "output_type": "error",
     "traceback": [
      "\u001b[0;31m---------------------------------------------------------------------------\u001b[0m",
      "\u001b[0;31mNameError\u001b[0m                                 Traceback (most recent call last)",
      "\u001b[0;32m<ipython-input-7-193da049fc75>\u001b[0m in \u001b[0;36m<module>\u001b[0;34m\u001b[0m\n\u001b[0;32m----> 1\u001b[0;31m \u001b[0mjson\u001b[0m\u001b[0;34m.\u001b[0m\u001b[0mloads\u001b[0m\u001b[0;34m(\u001b[0m\u001b[0mresponse_select_neighbors_to_load\u001b[0m\u001b[0;34m)\u001b[0m\u001b[0;34m\u001b[0m\u001b[0;34m\u001b[0m\u001b[0m\n\u001b[0m",
      "\u001b[0;31mNameError\u001b[0m: name 'response_select_neighbors_to_load' is not defined"
     ]
    }
   ],
   "source": [
    "json.loads(response_select_neighbors_to_load)"
   ]
  },
  {
   "cell_type": "code",
   "execution_count": 8,
   "metadata": {},
   "outputs": [],
   "source": [
    "# Get output"
   ]
  },
  {
   "cell_type": "code",
   "execution_count": 9,
   "metadata": {},
   "outputs": [
    {
     "ename": "NameError",
     "evalue": "name 'response_select_neighbors_to_load' is not defined",
     "output_type": "error",
     "traceback": [
      "\u001b[0;31m---------------------------------------------------------------------------\u001b[0m",
      "\u001b[0;31mNameError\u001b[0m                                 Traceback (most recent call last)",
      "\u001b[0;32m<ipython-input-9-808b15bd9171>\u001b[0m in \u001b[0;36m<module>\u001b[0;34m\u001b[0m\n\u001b[1;32m     10\u001b[0m \u001b[0mt\u001b[0m \u001b[0;34m=\u001b[0m \u001b[0mtime\u001b[0m\u001b[0;34m.\u001b[0m\u001b[0mtime\u001b[0m\u001b[0;34m(\u001b[0m\u001b[0;34m)\u001b[0m\u001b[0;34m\u001b[0m\u001b[0;34m\u001b[0m\u001b[0m\n\u001b[1;32m     11\u001b[0m response_get_output = requests.post(url +'get_output',\n\u001b[0;32m---> 12\u001b[0;31m                   json=response_select_neighbors_to_load, headers=headers_)\n\u001b[0m\u001b[1;32m     13\u001b[0m \u001b[0;34m\u001b[0m\u001b[0m\n\u001b[1;32m     14\u001b[0m \u001b[0mresponse_get_output_to_load\u001b[0m \u001b[0;34m=\u001b[0m \u001b[0mjson\u001b[0m\u001b[0;34m.\u001b[0m\u001b[0mdumps\u001b[0m\u001b[0;34m(\u001b[0m\u001b[0mjson\u001b[0m\u001b[0;34m.\u001b[0m\u001b[0mloads\u001b[0m\u001b[0;34m(\u001b[0m\u001b[0mresponse_get_output\u001b[0m\u001b[0;34m.\u001b[0m\u001b[0mcontent\u001b[0m\u001b[0;34m)\u001b[0m\u001b[0;34m)\u001b[0m\u001b[0;34m\u001b[0m\u001b[0;34m\u001b[0m\u001b[0m\n",
      "\u001b[0;31mNameError\u001b[0m: name 'response_select_neighbors_to_load' is not defined"
     ]
    }
   ],
   "source": [
    "import time\n",
    "import requests\n",
    "import json\n",
    "headers_ = {\n",
    "        \"EsbApi-Subscription-Key\": \"asd\",\n",
    "        \"Authorization\": \"asdas\"\n",
    "}\n",
    "\n",
    "url = 'http://127.0.0.1:8885/'\n",
    "t = time.time()\n",
    "response_get_output = requests.post(url +'get_output',\n",
    "                  json=response_select_neighbors_to_load, headers=headers_)\n",
    "\n",
    "response_get_output_to_load = json.dumps(json.loads(response_get_output.content))"
   ]
  },
  {
   "cell_type": "code",
   "execution_count": 250,
   "metadata": {},
   "outputs": [
    {
     "data": {
      "text/plain": [
       "{'lst_game_keys_rates_features': [['adunit-progressive-thankyou-fs/f2bf1bccb7db658b1dd6',\n",
       "   [5431, 2580, 1519, 0.47505063524212854, 0.27969066470263304],\n",
       "   [['United States']],\n",
       "   'https://preview.adludio.com/adunit-progressive-thankyou-fs/f2bf1bccb7db658b1dd6'],\n",
       "  ['adunit-progressive-endframe-temp-ver1-fs/08cb8d90248776b380d7',\n",
       "   [4549, 2048, 1187, 0.4502088371070565, 0.26093646955374805],\n",
       "   [['United States']],\n",
       "   'https://preview.adludio.com/adunit-progressive-endframe-temp-ver1-fs/08cb8d90248776b380d7'],\n",
       "  ['adunit-progressive-endframe-mpu/86457230dcd070b1e3c9',\n",
       "   [10758, 3363, 1244, 0.3126045733407697, 0.11563487637107268],\n",
       "   [['United States']],\n",
       "   'https://preview.adludio.com/adunit-progressive-endframe-mpu/86457230dcd070b1e3c9'],\n",
       "  ['dbbf504dd40aa316e84c5218ae570e2d/d2d6d32c05044b8b53f1',\n",
       "   [15214, 3589, 1315, 0.23590114368344944, 0.08643354804785067],\n",
       "   [['United States'],\n",
       "    ['tap,click',\n",
       "     0.0,\n",
       "     0.0,\n",
       "     600.0,\n",
       "     900.0,\n",
       "     nan,\n",
       "     nan,\n",
       "     nan,\n",
       "     nan,\n",
       "     nan,\n",
       "     nan,\n",
       "     nan,\n",
       "     nan,\n",
       "     0.0,\n",
       "     0.0,\n",
       "     600.0,\n",
       "     500.0,\n",
       "     nan,\n",
       "     nan,\n",
       "     nan,\n",
       "     nan,\n",
       "     600.0,\n",
       "     900.0,\n",
       "     540000.0,\n",
       "     540000.0,\n",
       "     300000.0,\n",
       "     nan,\n",
       "     nan,\n",
       "     nan]],\n",
       "   'https://preview.adludio.com/dbbf504dd40aa316e84c5218ae570e2d/d2d6d32c05044b8b53f1'],\n",
       "  ['e9c2e918eb4f43e7be9ff1ebbf29e62e/058a2c8b207c7bda3ab0',\n",
       "   [15223, 3627, 1313, 0.23825789923142612, 0.08625106746370624],\n",
       "   [['United States'],\n",
       "    ['tap,click',\n",
       "     0.0,\n",
       "     0.0,\n",
       "     600.0,\n",
       "     900.0,\n",
       "     nan,\n",
       "     nan,\n",
       "     nan,\n",
       "     nan,\n",
       "     nan,\n",
       "     nan,\n",
       "     nan,\n",
       "     nan,\n",
       "     0.0,\n",
       "     0.0,\n",
       "     600.0,\n",
       "     500.0,\n",
       "     nan,\n",
       "     nan,\n",
       "     nan,\n",
       "     nan,\n",
       "     600.0,\n",
       "     900.0,\n",
       "     540000.0,\n",
       "     540000.0,\n",
       "     300000.0,\n",
       "     nan,\n",
       "     nan,\n",
       "     nan]],\n",
       "   'https://preview.adludio.com/e9c2e918eb4f43e7be9ff1ebbf29e62e/058a2c8b207c7bda3ab0'],\n",
       "  ['adunit-progressive-thankyou-mpu/048db6861d53b5273364',\n",
       "   [34201, 7320, 2780, 0.21402882956638694, 0.08128417297739832],\n",
       "   [['United States']],\n",
       "   'https://preview.adludio.com/adunit-progressive-thankyou-mpu/048db6861d53b5273364'],\n",
       "  ['ed92e0ed05eded96cb00f760698fe4d5/2988fc397b583ab4a01d',\n",
       "   [15579, 3625, 1157, 0.23268502471275435, 0.07426664099107773],\n",
       "   [['United States'],\n",
       "    ['tap,click',\n",
       "     0.0,\n",
       "     0.0,\n",
       "     600.0,\n",
       "     900.0,\n",
       "     nan,\n",
       "     nan,\n",
       "     nan,\n",
       "     nan,\n",
       "     nan,\n",
       "     nan,\n",
       "     nan,\n",
       "     nan,\n",
       "     0.0,\n",
       "     0.0,\n",
       "     600.0,\n",
       "     500.0,\n",
       "     nan,\n",
       "     nan,\n",
       "     nan,\n",
       "     nan,\n",
       "     600.0,\n",
       "     900.0,\n",
       "     540000.0,\n",
       "     540000.0,\n",
       "     300000.0,\n",
       "     nan,\n",
       "     nan,\n",
       "     nan]],\n",
       "   'https://preview.adludio.com/ed92e0ed05eded96cb00f760698fe4d5/2988fc397b583ab4a01d'],\n",
       "  ['90a2b4b9dada1ecb7fdfeec6a3fe0ff6/45efe715bc0a7c0874ea',\n",
       "   [68344, 9423, 3906, 0.13787603886222638, 0.05715205431347302],\n",
       "   [['United States'],\n",
       "    ['click,tap',\n",
       "     0.0,\n",
       "     0.0,\n",
       "     600.0,\n",
       "     500.0,\n",
       "     nan,\n",
       "     nan,\n",
       "     nan,\n",
       "     nan,\n",
       "     nan,\n",
       "     nan,\n",
       "     nan,\n",
       "     nan,\n",
       "     0.0,\n",
       "     0.0,\n",
       "     600.0,\n",
       "     500.0,\n",
       "     nan,\n",
       "     nan,\n",
       "     nan,\n",
       "     nan,\n",
       "     600.0,\n",
       "     500.0,\n",
       "     300000.0,\n",
       "     300000.0,\n",
       "     300000.0,\n",
       "     nan,\n",
       "     nan,\n",
       "     nan]],\n",
       "   'https://preview.adludio.com/90a2b4b9dada1ecb7fdfeec6a3fe0ff6/45efe715bc0a7c0874ea'],\n",
       "  ['40a87a3bc2215edcba15f0e4f794595b/66a97d67c76045401b4e',\n",
       "   [68467, 9356, 3883, 0.13664977288328684, 0.0567134531964304],\n",
       "   [['United States'],\n",
       "    ['click,tap',\n",
       "     0.0,\n",
       "     0.0,\n",
       "     600.0,\n",
       "     500.0,\n",
       "     nan,\n",
       "     nan,\n",
       "     nan,\n",
       "     nan,\n",
       "     nan,\n",
       "     nan,\n",
       "     nan,\n",
       "     nan,\n",
       "     0.0,\n",
       "     0.0,\n",
       "     600.0,\n",
       "     500.0,\n",
       "     nan,\n",
       "     nan,\n",
       "     nan,\n",
       "     nan,\n",
       "     600.0,\n",
       "     500.0,\n",
       "     300000.0,\n",
       "     300000.0,\n",
       "     300000.0,\n",
       "     nan,\n",
       "     nan,\n",
       "     nan]],\n",
       "   'https://preview.adludio.com/40a87a3bc2215edcba15f0e4f794595b/66a97d67c76045401b4e'],\n",
       "  ['adunit-progressive-endframe-mpu/cf6812c08aa967a370b5',\n",
       "   [31284, 5053, 1748, 0.1615202659506457, 0.05587520777394195],\n",
       "   [['United States']],\n",
       "   'https://preview.adludio.com/adunit-progressive-endframe-mpu/cf6812c08aa967a370b5']]}"
      ]
     },
     "execution_count": 250,
     "metadata": {},
     "output_type": "execute_result"
    }
   ],
   "source": [
    "json.loads(response_get_output_to_load)"
   ]
  },
  {
   "cell_type": "code",
   "execution_count": 251,
   "metadata": {},
   "outputs": [],
   "source": [
    "### SHOW OUTPUTS\n",
    "import time\n",
    "import requests\n",
    "import json\n",
    "headers_ = {\n",
    "        \"EsbApi-Subscription-Key\": \"asd\",\n",
    "        \"Authorization\": \"asdas\"\n",
    "}\n",
    "\n",
    "url = 'http://127.0.0.1:8885/'\n",
    "t = time.time()\n",
    "response_show_output = requests.post(url +'show_output',\n",
    "                  json=response_get_output_to_load, headers=headers_)\n",
    "\n",
    "response_show_output_to_load = json.dumps(json.loads(response_show_output.content))"
   ]
  },
  {
   "cell_type": "code",
   "execution_count": 252,
   "metadata": {},
   "outputs": [
    {
     "data": {
      "text/plain": [
       "{'TOP_10_BEST_PERFORMING_ADS': [\"1: https://preview.adludio.com/adunit-progressive-thankyou-fs/f2bf1bccb7db658b1dd6 ; Engagement rate: 48%; Click-through rate: 28%; Impressions: 5500; Engagements: 2600; Click-through: 1600; Countries: ['United States']\",\n",
       "  \"2: https://preview.adludio.com/adunit-progressive-endframe-temp-ver1-fs/08cb8d90248776b380d7 ; Engagement rate: 45%; Click-through rate: 26%; Impressions: 4600; Engagements: 2100; Click-through: 1200; Countries: ['United States']\",\n",
       "  \"3: https://preview.adludio.com/adunit-progressive-endframe-mpu/86457230dcd070b1e3c9 ; Engagement rate: 31%; Click-through rate: 12%; Impressions: 10800; Engagements: 3400; Click-through: 1300; Countries: ['United States']\",\n",
       "  \"4: https://preview.adludio.com/dbbf504dd40aa316e84c5218ae570e2d/d2d6d32c05044b8b53f1 ; Engagement rate: 24%; Click-through rate: 9%; Impressions: 15300; Engagements: 3600; Click-through: 1400; Countries: ['United States']\",\n",
       "  \"5: https://preview.adludio.com/e9c2e918eb4f43e7be9ff1ebbf29e62e/058a2c8b207c7bda3ab0 ; Engagement rate: 24%; Click-through rate: 9%; Impressions: 15300; Engagements: 3700; Click-through: 1400; Countries: ['United States']\",\n",
       "  \"6: https://preview.adludio.com/adunit-progressive-thankyou-mpu/048db6861d53b5273364 ; Engagement rate: 21%; Click-through rate: 8%; Impressions: 34300; Engagements: 7400; Click-through: 2800; Countries: ['United States']\",\n",
       "  \"7: https://preview.adludio.com/ed92e0ed05eded96cb00f760698fe4d5/2988fc397b583ab4a01d ; Engagement rate: 23%; Click-through rate: 7%; Impressions: 15600; Engagements: 3700; Click-through: 1200; Countries: ['United States']\",\n",
       "  \"8: https://preview.adludio.com/90a2b4b9dada1ecb7fdfeec6a3fe0ff6/45efe715bc0a7c0874ea ; Engagement rate: 14%; Click-through rate: 6%; Impressions: 68400; Engagements: 9500; Click-through: 4000; Countries: ['United States']\",\n",
       "  \"9: https://preview.adludio.com/40a87a3bc2215edcba15f0e4f794595b/66a97d67c76045401b4e ; Engagement rate: 14%; Click-through rate: 6%; Impressions: 68500; Engagements: 9400; Click-through: 3900; Countries: ['United States']\",\n",
       "  \"10: https://preview.adludio.com/adunit-progressive-endframe-mpu/cf6812c08aa967a370b5 ; Engagement rate: 16%; Click-through rate: 6%; Impressions: 31300; Engagements: 5100; Click-through: 1800; Countries: ['United States']\"]}"
      ]
     },
     "execution_count": 252,
     "metadata": {},
     "output_type": "execute_result"
    }
   ],
   "source": [
    "json.loads(response_show_output_to_load)"
   ]
  },
  {
   "cell_type": "code",
   "execution_count": 168,
   "metadata": {},
   "outputs": [],
   "source": [
    "### OTHER"
   ]
  },
  {
   "cell_type": "code",
   "execution_count": null,
   "metadata": {},
   "outputs": [],
   "source": []
  },
  {
   "cell_type": "code",
   "execution_count": null,
   "metadata": {},
   "outputs": [],
   "source": [
    "\n",
    "headers_ = {\n",
    "        \"EsbApi-Subscription-Key\": \"asd\",\n",
    "        \"Authorization\": \"asdas\",\n",
    "        \"Content-Type\": \"application/json\",\n",
    "    \n",
    "}\n",
    "\n",
    "jsn_list = [\n",
    "   {\n",
    "      \"Timestmp\":\"2020-05-04T11:28:13.000Z\",\n",
    "      \"Feature1\":617.52,\n",
    "      \"Feature2\":670.90,\n",
    "      \"Feature3\":758.53,\n",
    "      \"Feature4\":56,\n",
    "   }\n",
    "]\n",
    "\n",
    "url = 'https://creative_rec.fal.aws.net/'\n",
    "t = time.time()\n",
    "r = requests.post(url +'predict',\n",
    "                  json=jsn_list, headers=headers_)\n",
    "print(time.time()-t)\n",
    "json.dumps(json.loads(r.content))\n"
   ]
  },
  {
   "cell_type": "markdown",
   "metadata": {},
   "source": []
  },
  {
   "cell_type": "code",
   "execution_count": null,
   "metadata": {},
   "outputs": [],
   "source": []
  },
  {
   "cell_type": "code",
   "execution_count": null,
   "metadata": {},
   "outputs": [],
   "source": []
  },
  {
   "cell_type": "code",
   "execution_count": null,
   "metadata": {},
   "outputs": [],
   "source": [
    "\n"
   ]
  },
  {
   "cell_type": "code",
   "execution_count": null,
   "metadata": {},
   "outputs": [],
   "source": []
  },
  {
   "cell_type": "code",
   "execution_count": null,
   "metadata": {},
   "outputs": [],
   "source": [
    "# {\"month\": \"\"july\", \"location\": \"france\"}\n",
    "str_ = load_json_string()\n",
    "\n",
    "input_ = convert_to_knn_input(str_)\n",
    "\n",
    "res = call_knn(input_)\n",
    "\n",
    "api_res = api_output(res)\n",
    "\n",
    "\n",
    "def call_knn(input):\n",
    "    load trained_knn_\n",
    "    #make prediuctions\n",
    "    \n",
    "    # return rpedictions\n",
    "    \n",
    "    "
   ]
  },
  {
   "cell_type": "code",
   "execution_count": 29,
   "metadata": {},
   "outputs": [],
   "source": [
    "LOOK_UP_TABLE = {}\n",
    "\n",
    "LOOK_UP_TABLE['country'] = ['France', 'Hong', 'Kong', 'Malaysia',\n",
    "                            'Singapore', 'South Africa', 'United States', 'United Kingdom']\n",
    "LOOK_UP_TABLE['month'] = ['January', 'February', 'March', 'April', 'May',\n",
    "                          'June', 'July', 'August', 'September', 'October', 'November', 'December']\n",
    "LOOK_UP_TABLE['target_group'] = [\"Arts & Entertainment & Books & Literature \", \"Autos \", \"Beauty\", \"Fitness & Health\", \"Business & Finance\", \"Computers & Technology\", \"Education \", \"Fashion \", \"Food & Drinks\", \"Games\",\n",
    "                                 \"Home & Garden\", \"Parenting & Family\", \"Pets & Animals\", \"Real Estate\", \"Uncategorized\", \"Shopping\", \"Sports\", \"Travel\", \"Law & Government Local News\", \"People\", \"Society & Online Communities Energy\"]\n",
    "\n",
    "LOOK_UP_TABLE['vertical'] = copy.copy(LOOK_UP_TABLE['target_group'])\n",
    "\n",
    "LOOK_UP_TABLE['campaign_objective'] = ['engagement_rate',\n",
    "                                       'click_through_rate', 'cost_per_engagement']\n",
    "\n",
    "COLUMN_INPUTS = ['country', 'month', 'target_group', 'vertical']\n",
    "COLUMN_OUTPUTS = ['campaign_objective']\n"
   ]
  },
  {
   "cell_type": "code",
   "execution_count": 38,
   "metadata": {},
   "outputs": [],
   "source": [
    "api_input = {\n",
    "    \"month\": [\"June\", \"July\", \"August\"],\n",
    "    \"country\": [\"United Kingdom\"],\n",
    "    \"vertical\": [\"Business & Finance\", \"Travel\"],\n",
    "    \"target_group\": [\"Business & Finance\"],\n",
    "    \"campaign_objectives\": [\"click_through_rate\"],\n",
    "}\n"
   ]
  },
  {
   "cell_type": "code",
   "execution_count": 41,
   "metadata": {},
   "outputs": [],
   "source": [
    "def extract_inputs(json_string, COLUMN_INPUTS=COLUMN_INPUTS,\n",
    "                   COLUMN_OUTPUTS=COLUMN_OUTPUTS):\n",
    "\n",
    "    key_location = {}\n",
    "    for key in COLUMN_INPUTS:\n",
    "        if key in json_string:\n",
    "            key_location[key] = []\n",
    "            for vals in json_string[key]:\n",
    "                key_location[key].append(LOOK_UP_TABLE[key].index(vals))\n",
    "        else:\n",
    "            key_location[key] = np.arange(len(LOOK_UP_TABLE[key])).tolist()\n",
    "\n",
    "    objectives = []\n",
    "    for key in COLUMN_OUTPUTS:\n",
    "        if key in json_string:\n",
    "            for vals in json_string[key]:\n",
    "                objectives.append(vals)\n",
    "\n",
    "    return key_location, objectives\n",
    "\n",
    "r, _ = extract_inputs(api_input)"
   ]
  },
  {
   "cell_type": "code",
   "execution_count": 49,
   "metadata": {},
   "outputs": [
    {
     "name": "stdout",
     "output_type": "stream",
     "text": [
      "<label for='country'>insert country</label><select name='country'>\n",
      "<option value='France' selected>France</option>\n",
      "<option value='Hong' >Hong</option>\n",
      "<option value='Kong' >Kong</option>\n",
      "<option value='Malaysia' >Malaysia</option>\n",
      "<option value='Singapore' >Singapore</option>\n",
      "<option value='South Africa' >South Africa</option>\n",
      "<option value='United States' >United States</option>\n",
      "<option value='United Kingdom' >United Kingdom</option>\n",
      "</select><br>\n",
      "<label for='month'>insert month</label><select name='month'>\n",
      "<option value='January' selected>January</option>\n",
      "<option value='February' >February</option>\n",
      "<option value='March' >March</option>\n",
      "<option value='April' >April</option>\n",
      "<option value='May' >May</option>\n",
      "<option value='June' >June</option>\n",
      "<option value='July' >July</option>\n",
      "<option value='August' >August</option>\n",
      "<option value='September' >September</option>\n",
      "<option value='October' >October</option>\n",
      "<option value='November' >November</option>\n",
      "<option value='December' >December</option>\n",
      "</select><br>\n",
      "<label for='target_group'>insert target_group</label><select name='target_group'>\n",
      "<option value='Arts & Entertainment & Books & Literature ' selected>Arts & Entertainment & Books & Literature </option>\n",
      "<option value='Autos ' >Autos </option>\n",
      "<option value='Beauty' >Beauty</option>\n",
      "<option value='Fitness & Health' >Fitness & Health</option>\n",
      "<option value='Business & Finance' >Business & Finance</option>\n",
      "<option value='Computers & Technology' >Computers & Technology</option>\n",
      "<option value='Education ' >Education </option>\n",
      "<option value='Fashion ' >Fashion </option>\n",
      "<option value='Food & Drinks' >Food & Drinks</option>\n",
      "<option value='Games' >Games</option>\n",
      "<option value='Home & Garden' >Home & Garden</option>\n",
      "<option value='Parenting & Family' >Parenting & Family</option>\n",
      "<option value='Pets & Animals' >Pets & Animals</option>\n",
      "<option value='Real Estate' >Real Estate</option>\n",
      "<option value='Uncategorized' >Uncategorized</option>\n",
      "<option value='Shopping' >Shopping</option>\n",
      "<option value='Sports' >Sports</option>\n",
      "<option value='Travel' >Travel</option>\n",
      "<option value='Law & Government Local News' >Law & Government Local News</option>\n",
      "<option value='People' >People</option>\n",
      "<option value='Society & Online Communities Energy' >Society & Online Communities Energy</option>\n",
      "</select><br>\n",
      "<label for='vertical'>insert vertical</label><select name='vertical'>\n",
      "<option value='Arts & Entertainment & Books & Literature ' selected>Arts & Entertainment & Books & Literature </option>\n",
      "<option value='Autos ' >Autos </option>\n",
      "<option value='Beauty' >Beauty</option>\n",
      "<option value='Fitness & Health' >Fitness & Health</option>\n",
      "<option value='Business & Finance' >Business & Finance</option>\n",
      "<option value='Computers & Technology' >Computers & Technology</option>\n",
      "<option value='Education ' >Education </option>\n",
      "<option value='Fashion ' >Fashion </option>\n",
      "<option value='Food & Drinks' >Food & Drinks</option>\n",
      "<option value='Games' >Games</option>\n",
      "<option value='Home & Garden' >Home & Garden</option>\n",
      "<option value='Parenting & Family' >Parenting & Family</option>\n",
      "<option value='Pets & Animals' >Pets & Animals</option>\n",
      "<option value='Real Estate' >Real Estate</option>\n",
      "<option value='Uncategorized' >Uncategorized</option>\n",
      "<option value='Shopping' >Shopping</option>\n",
      "<option value='Sports' >Sports</option>\n",
      "<option value='Travel' >Travel</option>\n",
      "<option value='Law & Government Local News' >Law & Government Local News</option>\n",
      "<option value='People' >People</option>\n",
      "<option value='Society & Online Communities Energy' >Society & Online Communities Energy</option>\n",
      "</select><br>\n",
      "<label for='campaign_objective'>insert campaign_objective</label><select name='campaign_objective'>\n",
      "<option value='engagement_rate' selected>engagement_rate</option>\n",
      "<option value='click_through_rate' >click_through_rate</option>\n",
      "<option value='cost_per_engagement' >cost_per_engagement</option>\n",
      "</select><br>\n"
     ]
    }
   ],
   "source": [
    "for key in LOOK_UP_TABLE:\n",
    "    print(f\"<label for='{key}'>insert {key}</label><select name='{key}'>\")\n",
    "    for i, val in enumerate(LOOK_UP_TABLE[key]):\n",
    "        selected = ''\n",
    "        if i ==0:\n",
    "            selected = 'selected'\n",
    "        print(f\"<option value='{val}' {selected}>{val}</option>\")\n",
    "    print('</select><br>')\n"
   ]
  },
  {
   "cell_type": "code",
   "execution_count": 46,
   "metadata": {},
   "outputs": [
    {
     "data": {
      "text/plain": [
       "['country', 'month', 'target_group', 'vertical']"
      ]
     },
     "execution_count": 46,
     "metadata": {},
     "output_type": "execute_result"
    }
   ],
   "source": [
    "X = []\n",
    "# think of some nicer way to do this, recursion...\n",
    "for cntry in r[COLUMN_INPUTS[0]]:\n",
    "    for month in r[COLUMN_INPUTS[1]]:\n",
    "        for target_group in r[COLUMN_INPUTS[2]]:\n",
    "            for vertical in r[COLUMN_INPUTS[3]]:\n",
    "                X.append([cntry, month, target_group, vertical])\n",
    "           "
   ]
  },
  {
   "cell_type": "code",
   "execution_count": 47,
   "metadata": {},
   "outputs": [
    {
     "data": {
      "text/plain": [
       "[[7, 5, 4, 4],\n",
       " [7, 5, 4, 17],\n",
       " [7, 6, 4, 4],\n",
       " [7, 6, 4, 17],\n",
       " [7, 7, 4, 4],\n",
       " [7, 7, 4, 17]]"
      ]
     },
     "execution_count": 47,
     "metadata": {},
     "output_type": "execute_result"
    }
   ],
   "source": [
    "X"
   ]
  },
  {
   "cell_type": "code",
   "execution_count": null,
   "metadata": {},
   "outputs": [],
   "source": []
  },
  {
   "cell_type": "code",
   "execution_count": null,
   "metadata": {},
   "outputs": [],
   "source": []
  },
  {
   "cell_type": "code",
   "execution_count": null,
   "metadata": {},
   "outputs": [],
   "source": []
  },
  {
   "cell_type": "code",
   "execution_count": null,
   "metadata": {},
   "outputs": [],
   "source": []
  },
  {
   "cell_type": "code",
   "execution_count": null,
   "metadata": {},
   "outputs": [],
   "source": [
    "api_input = {\n",
    "    \"game_keys\": [\"game1\", 'game2'],\n",
    "    \"meta_data_columns\": [\"month\"]\n",
    "    }\n",
    "\n",
    "url = 'http://127.0.0.1:8885/'\n",
    "t = time.time()\n",
    "r = requests.post(url +'get_game_info',\n",
    "                  json=api_input, headers=headers_)\n",
    "print(time.time()-t)\n",
    "json.dumps(json.loads(r.content))"
   ]
  },
  {
   "cell_type": "code",
   "execution_count": null,
   "metadata": {},
   "outputs": [],
   "source": []
  }
 ],
 "metadata": {
  "kernelspec": {
   "display_name": "Python 3",
   "language": "python",
   "name": "python3"
  },
  "language_info": {
   "codemirror_mode": {
    "name": "ipython",
    "version": 3
   },
   "file_extension": ".py",
   "mimetype": "text/x-python",
   "name": "python",
   "nbconvert_exporter": "python",
   "pygments_lexer": "ipython3",
   "version": "3.8.2"
  },
  "name": "System Monitoring_trial",
  "notebookId": 2443126395477774
 },
 "nbformat": 4,
 "nbformat_minor": 4
}
